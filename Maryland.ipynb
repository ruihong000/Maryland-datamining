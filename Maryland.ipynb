{
 "cells": [
  {
   "cell_type": "markdown",
   "metadata": {},
   "source": [
    "# Maryland dataset"
   ]
  },
  {
   "cell_type": "markdown",
   "metadata": {},
   "source": [
    "The Maryland trip file contains three main spreadsheets, namely TripRecordsReport.csv, TripRecordsReportWaypoints.csv and TripsRecordsReportProviderDetails.csv. \n"
   ]
  },
  {
   "cell_type": "markdown",
   "metadata": {},
   "source": [
    "## TripRecordsReport File - Column Definitions \n",
    "\n",
    "1. 'TripID - A trip's unique identifier\n",
    "2. DeviceID - A device's unique identifier\n",
    "3. ProviderID - A provider's unique identifier\n",
    "4. Mode - Mode of transport (0 = walk; 1 = vehicle; 2 = rail)\n",
    "5. StartDate - The trip's start date and time in UTC, ISO-8601 format\n",
    "6. StartWDay - The weekday of the trip's start (1 = Sunday, 2 = Monday, etc.)\n",
    "7. EndDate - The trip's end date and time in UTC, ISO-8601 format\n",
    "8. EndWDay - The weekday of the trip's end (1 = Sunday, 2 = Monday, etc.)\n",
    "9. StartLocLat - The decimal degree latitude coordinates of the trip's start point\n",
    "10. StartLocLon - The decimal degree longitude coordinates of the trip's start point\n",
    "11. EndLocLat - The decimal degree latitude coordinates of the trip's end point\n",
    "12. EndLocLon - The decimal degree longitude coordinates of the trip's end point\n",
    "13. IsStartHome - Is the start location the home of the device?\n",
    "14. IsEndHome - Is the end location the home of the device?\n",
    "15. GeospatialType - Type of trip (II - Internal to Internal; IE - Internal to External; EI - External to Internal; EE - External to External)\n",
    "16. ProviderType - Consumer, Fleet, Mobile\n",
    "17. ProviderDrivingProfile - The driving class represented by the provider\n",
    "18. VehicleWeightClass - Vehicle weight class"
   ]
  },
  {
   "cell_type": "markdown",
   "metadata": {},
   "source": [
    "## TripRecordsReportWaypoints - Column Definitions\n",
    "\n",
    "1. TripID - A trip's unique identifier\n",
    "2. WaypointSequence - The order of the waypoint within the trip starting with \"1\" and incrementing by one\n",
    "3. CaptureDate - The capture date and time of the waypoint in UTC, ISO-8601 format\n",
    "4. Latitude - The decimal degree latitude coordinates of the waypoint\n",
    "5. Longitude - The decimal degree longitude coordinates of the waypoint"
   ]
  },
  {
   "cell_type": "markdown",
   "metadata": {},
   "source": [
    "The detailed route about each trip is recorded in the TripRecordsReportWaypoints.csv.\n",
    "The TripRecordsReportWaypoints.csv is composed of many waypoints which are located by the latitude and longtitude with the timestamps. The waypoints in the same trip will have the same trip id, so we can recover the route of a particular trip. Besides, with the timestamp, we can further infer the travel time in different road segments as well. \n"
   ]
  },
  {
   "cell_type": "markdown",
   "metadata": {},
   "source": [
    "## TripsRecordsReportProviderDetails - Column Definitions\n",
    "\n",
    "1. ProviderId - A provider's unique identifier\n",
    "2. ProviderType - Consumer, Fleet, Mobile\n",
    "3. ProviderDrivingProfile - The driving class represented by the provider\n",
    "4. VehicleWeightClass - Vehicle weight class\n",
    "5. ProbeSourceType - Source of the probe data (EmbeddedGPS, MobileDevice, Unknown)"
   ]
  },
  {
   "cell_type": "markdown",
   "metadata": {},
   "source": [
    "The last spreadsheet, TripsRecordsReportProviderDetails.csv, keeps the detailed information about the data provider."
   ]
  },
  {
   "cell_type": "markdown",
   "metadata": {},
   "source": [
    "### Here, Here, we collect some basic statistics on the data "
   ]
  },
  {
   "cell_type": "code",
   "execution_count": null,
   "metadata": {},
   "outputs": [],
   "source": [
    "import numpy as np\n",
    "import pandas as pd\n",
    "import matplotlib\n",
    "import matplotlib.pyplot as plt\n",
    "f = open('D:\\\\Maryland\\\\TripRecordsReportTrips.csv', 'r')\n",
    "reader = pd.read_csv(f, sep=',', iterator=True,header=None)\n",
    "chunksize = 500\n",
    "chunk = reader.get_chunk(chunksize)\n"
   ]
  },
  {
   "cell_type": "code",
   "execution_count": 6,
   "metadata": {},
   "outputs": [],
   "source": [
    "loop=True\n",
    "device_list = []\n",
    "provider_list = []\n",
    "num = 0\n",
    "geospatial = [0,0,0,0,0]\n",
    "pro_type = [0,0,0,0,0,0]\n",
    "pro_dri_file = [0,0,0,0,0,0]\n",
    "vehicle_weight = [0,0,0,0,0,0]\n"
   ]
  },
  {
   "cell_type": "code",
   "execution_count": 8,
   "metadata": {
    "scrolled": true
   },
   "outputs": [
    {
     "name": "stdout",
     "output_type": "stream",
     "text": [
      "Iteration is stopped.\n",
      "total trip number 4868083\n",
      "83\n"
     ]
    }
   ],
   "source": [
    "while loop:\n",
    "    try:\n",
    "        chunk = reader.get_chunk(chunksize)\n",
    "        for i in range(0,chunk.shape[0]):\n",
    "#             if chunk.iloc[i,1] not in device_list:\n",
    "#                 device_list.append(chunk.iloc[i,1])\n",
    "#             if chunk.iloc[i,2] not in provider_list:\n",
    "#                 provider_list.append(chunk.iloc[i,1])\n",
    "            if chunk.iloc[i,14]=='II':\n",
    "                geospatial[0] = geospatial[0]+1\n",
    "            if chunk.iloc[i,14]=='IE':\n",
    "                geospatial[1] = geospatial[1]+1\n",
    "            if chunk.iloc[i,14]=='EI':\n",
    "                geospatial[2] = geospatial[2]+1\n",
    "            if chunk.iloc[i,14]=='EE':\n",
    "                geospatial[3] = geospatial[3]+1\n",
    "            pro_type[chunk.iloc[i,15]] = pro_type[chunk.iloc[i,15]] + 1\n",
    "            pro_dri_file[chunk.iloc[i,16]] = pro_dri_file[chunk.iloc[i,16]]+1\n",
    "            vehicle_weight[chunk.iloc[i,17]] = vehicle_weight[chunk.iloc[i,17]]+1\n",
    "        num = num+1 \n",
    "    except StopIteration:\n",
    "        loop = False\n",
    "        print(\"Iteration is stopped.\")\n",
    "        print('total trip number', num*chunksize+chunk.shape[0])\n",
    "        print(chunk.shape[0])\n"
   ]
  },
  {
   "cell_type": "markdown",
   "metadata": {},
   "source": [
    "The total number of the trips record is 4868083.  The number in four particular attribute are also counted in each iteration"
   ]
  },
  {
   "cell_type": "code",
   "execution_count": 9,
   "metadata": {},
   "outputs": [
    {
     "data": {
      "text/plain": [
       "[3762062, 485664, 484036, 136258, 0]"
      ]
     },
     "execution_count": 9,
     "metadata": {},
     "output_type": "execute_result"
    }
   ],
   "source": [
    "geospatial"
   ]
  },
  {
   "cell_type": "markdown",
   "metadata": {},
   "source": [
    "## GeospatialType attribute: \n",
    "The number of II is 3762062; \n",
    " \n"
   ]
  },
  {
   "cell_type": "markdown",
   "metadata": {},
   "source": [
    "The number of IE is 485664;"
   ]
  },
  {
   "cell_type": "markdown",
   "metadata": {},
   "source": [
    "The number of EI is 484036;"
   ]
  },
  {
   "cell_type": "markdown",
   "metadata": {},
   "source": [
    "The number of EE is 136258;"
   ]
  },
  {
   "cell_type": "markdown",
   "metadata": {},
   "source": [
    "The rest of those are empty values."
   ]
  },
  {
   "cell_type": "code",
   "execution_count": 14,
   "metadata": {},
   "outputs": [
    {
     "data": {
      "text/plain": [
       "[0, 1428952, 3439068, 0, 0, 0]"
      ]
     },
     "execution_count": 14,
     "metadata": {},
     "output_type": "execute_result"
    }
   ],
   "source": [
    "pro_type"
   ]
  },
  {
   "cell_type": "markdown",
   "metadata": {},
   "source": [
    "## ProviderType attribute: \n",
    "\n",
    " \n"
   ]
  },
  {
   "cell_type": "markdown",
   "metadata": {},
   "source": [
    "The nuber of consumers is "
   ]
  },
  {
   "cell_type": "markdown",
   "metadata": {},
   "source": [
    "The number of fleet is 3439068"
   ]
  },
  {
   "cell_type": "markdown",
   "metadata": {},
   "source": [
    "The number of mobile is "
   ]
  },
  {
   "cell_type": "code",
   "execution_count": 17,
   "metadata": {},
   "outputs": [
    {
     "data": {
      "text/plain": [
       "[0, 966578, 41353, 2455800, 1404289, 0]"
      ]
     },
     "execution_count": 17,
     "metadata": {},
     "output_type": "execute_result"
    }
   ],
   "source": [
    "pro_dri_file"
   ]
  },
  {
   "cell_type": "markdown",
   "metadata": {},
   "source": [
    "## ProviderDrivingProfile attribute: \n",
    "The number of 'Heavy Duty Trucks: > 26000 lb.' is 1404289; \n",
    " "
   ]
  },
  {
   "cell_type": "markdown",
   "metadata": {},
   "source": [
    "The number of 'Medium Duty Trucks / Vans: ranges from 14001-26000 lb.' is 2455800\n"
   ]
  },
  {
   "cell_type": "markdown",
   "metadata": {},
   "source": [
    "The number of 'unknown' is 41353"
   ]
  },
  {
   "cell_type": "markdown",
   "metadata": {},
   "source": [
    "The number of 'Light Duty Truck/Passenger Vehicle: Ranges from 0 to 14000 lb.' is 966578"
   ]
  },
  {
   "cell_type": "code",
   "execution_count": 18,
   "metadata": {},
   "outputs": [
    {
     "data": {
      "text/plain": [
       "[0, 1007932, 2454584, 1405504, 0, 0]"
      ]
     },
     "execution_count": 18,
     "metadata": {},
     "output_type": "execute_result"
    }
   ],
   "source": [
    "vehicle_weight"
   ]
  },
  {
   "cell_type": "markdown",
   "metadata": {},
   "source": [
    "## VehicleWeightClass attribute: "
   ]
  },
  {
   "cell_type": "markdown",
   "metadata": {},
   "source": [
    "The number of 1 is 1007932"
   ]
  },
  {
   "cell_type": "raw",
   "metadata": {},
   "source": [
    "The number of 2 is 2454584"
   ]
  },
  {
   "cell_type": "markdown",
   "metadata": {},
   "source": [
    "The number of 3 is 1405504"
   ]
  },
  {
   "cell_type": "markdown",
   "metadata": {},
   "source": [
    "# Research ideas for this dataset"
   ]
  },
  {
   "cell_type": "markdown",
   "metadata": {},
   "source": [
    "## Traffic prediction based on the travel time information\n",
    "The whole traffic network can be abstracted as a graph model, the vertex of which represents a road segment. We can develop an algorithm to predict the travel time on every road segment based on the travel time in the last few timestamps. This can be a follow-up research of the study of Professor Duffield in the ECE, who has develop an algorithm based on the clustering algorithm and Graph Signal Processing approach."
   ]
  },
  {
   "cell_type": "markdown",
   "metadata": {},
   "source": [
    "## The routing behavior based on trip information\n",
    "The vehicle driver will make different route decision based on different trip information. We can make a logistic regression model to simulate the human decision. There has already been research on this topic by Xiaoqiang Kong. However, the model of the algorithm is not perfect, we can add more variables and apply the decision tree algorithm on it, which is supposed to have a better performance.\n"
   ]
  },
  {
   "cell_type": "markdown",
   "metadata": {},
   "source": [
    "## The detouring behavior based on the trip information\n",
    "Since the travel time can denote whether there is a congestion, we can study the detour behavior of the driver as well. Like the routing behavior, we can build a decision tree to infer the human decision.\n"
   ]
  },
  {
   "cell_type": "markdown",
   "metadata": {},
   "source": [
    "## The speeding behavior based on the trip information\n",
    "The travel time information can also be used to determine whether a driver is speeding on this road segment, so we can do a study about impact of several factor on the speeding behavior.\n"
   ]
  },
  {
   "cell_type": "markdown",
   "metadata": {},
   "source": [
    "## The relationship between the familiar route and the driving behavior\n",
    "Since the dataset keep tracking the route of the driver for several month, we can distinguish the high frequency trip from the others. We can try to find out whether there will be a huge difference on the driving behavior like the speed."
   ]
  }
 ],
 "metadata": {
  "kernelspec": {
   "display_name": "Python 3",
   "language": "python",
   "name": "python3"
  },
  "language_info": {
   "codemirror_mode": {
    "name": "ipython",
    "version": 3
   },
   "file_extension": ".py",
   "mimetype": "text/x-python",
   "name": "python",
   "nbconvert_exporter": "python",
   "pygments_lexer": "ipython3",
   "version": "3.6.8"
  }
 },
 "nbformat": 4,
 "nbformat_minor": 2
}
